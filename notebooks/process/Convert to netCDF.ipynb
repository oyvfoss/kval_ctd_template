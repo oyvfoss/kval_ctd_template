{
 "cells": [
  {
   "cell_type": "markdown",
   "id": "9e3c8aaf-c9de-4de1-928b-adb4ee59f764",
   "metadata": {},
   "source": [
    "# Conversion to netCDF\n",
    "\n",
    "Read cnv files in `data/source/cnv/`, join together and savea as a preliminary NetCDF (as well as a preliminary matfile)."
   ]
  },
  {
   "cell_type": "code",
   "execution_count": 1,
   "id": "52131b48-4204-42a3-8bd0-b8e76b13bb49",
   "metadata": {},
   "outputs": [],
   "source": [
    "# Load the ctd module from the kval library  \n",
    "from kval.data import ctd\n",
    "# Set the matplotlib backend so we can interact with the plots (zoom, click buttons etc)\n",
    "%matplotlib widget"
   ]
  },
  {
   "cell_type": "markdown",
   "id": "c896b93e-08e4-4072-9020-59ae7d4c93e8",
   "metadata": {},
   "source": [
    "### Set a cruise id \n",
    "(Using (for now) as the prefix for the files."
   ]
  },
  {
   "cell_type": "code",
   "execution_count": 2,
   "id": "8b321414-6a5f-4b1a-bc7e-5b20458012a6",
   "metadata": {},
   "outputs": [],
   "source": [
    " cruise_ctd_id = 'fs2015_ctds'"
   ]
  },
  {
   "cell_type": "markdown",
   "id": "b3cb8aa0-5ab2-4dfd-81b4-fc1ca17d652c",
   "metadata": {},
   "source": [
    "### Load the joined dataset\n"
   ]
  },
  {
   "cell_type": "code",
   "execution_count": 3,
   "id": "52d68f5b-12fe-4c9e-b326-3b7266dfd469",
   "metadata": {},
   "outputs": [
    {
     "name": "stdout",
     "output_type": "stream",
     "text": [
      "Found 44 .cnv files in  \"../../data/source/cnv/\".\n",
      "NOTE: It seems the input data already binned -> using preexisting binning.\n"
     ]
    },
    {
     "data": {
      "application/vnd.jupyter.widget-view+json": {
       "model_id": "420d4503f87845da9d6876c5df49dff3",
       "version_major": 2,
       "version_minor": 0
      },
      "text/plain": [
       "Joining profiles together:   0%|          | 0/44 [00:00<?, ?it/s]"
      ]
     },
     "metadata": {},
     "output_type": "display_data"
    }
   ],
   "source": [
    "ds = ctd.ctds_from_cnv_dir('../../data/source/cnv/')\n",
    "ds.attrs['id'] = cruise_ctd_id"
   ]
  },
  {
   "cell_type": "markdown",
   "id": "5f1d1a3b-ce4c-4f9e-ba18-bb60ad594402",
   "metadata": {},
   "source": [
    "### Do some standard tweaks to metadata \n",
    "\n",
    "Applying a bunch of metadata attributes. Not necessarily ideal formatting - consider more a first pass over the metadata.\n"
   ]
  },
  {
   "cell_type": "code",
   "execution_count": 4,
   "id": "64f8c0e8-0a56-4c40-9f38-5aa714cfdd30",
   "metadata": {},
   "outputs": [],
   "source": [
    "ds = ctd.metadata_auto(ds)"
   ]
  },
  {
   "cell_type": "markdown",
   "id": "c8f6094d-b22b-4bc1-b020-ac01b4e50495",
   "metadata": {},
   "source": [
    "### Export to netCDF"
   ]
  },
  {
   "cell_type": "code",
   "execution_count": 5,
   "id": "f0c65052-e775-45b7-b565-f0daae406266",
   "metadata": {},
   "outputs": [
    {
     "name": "stdout",
     "output_type": "stream",
     "text": [
      "Updated history attribute. Current content:\n",
      "---\n",
      "2023-08-31 to 2023-09-12: Data collection.\n",
      "2023-10-06: Processed to .cnv using SBE software (details in \"PROCESSING.SBE_processing\").\n",
      "2024-08-12: Post-processing.\n",
      "2024-08-12: Creation of this netcdf file.\n",
      "---\n",
      "Exported netCDF file as: ../../data/intermediate/nc_initial/fs2015_ctds_unprocessed.nc\n"
     ]
    }
   ],
   "source": [
    "nc_initial_dir = '../../data/intermediate/nc_initial/'\n",
    "ctd.to_netcdf(ds, nc_initial_dir, file_name = f'{cruise_ctd_id}_unprocessed')"
   ]
  },
  {
   "cell_type": "markdown",
   "id": "022fbf53-0c9d-4f3e-95a7-64a84edec0f2",
   "metadata": {},
   "source": [
    "### Check the NetCDF\n",
    "Load the nc file we just created and inspect it."
   ]
  },
  {
   "cell_type": "code",
   "execution_count": 6,
   "id": "e1220621-01eb-4b5e-b114-85a05d73a8ef",
   "metadata": {},
   "outputs": [],
   "source": [
    "ds_load = ctd.from_netcdf(nc_initial_dir + f'{cruise_ctd_id}_unprocessed.nc')"
   ]
  },
  {
   "cell_type": "markdown",
   "id": "dcb521e3-9d0e-49b3-a503-c5049243f2c3",
   "metadata": {},
   "source": [
    "### Export to .mat\n",
    "\n",
    "In case it is useful; export the dataset for analysis in Matlab. Note that we haven't really applied any post-processing steps, just joined the profiles and added some metadata."
   ]
  },
  {
   "cell_type": "code",
   "execution_count": 7,
   "id": "a4d83880-05a1-4a29-bb42-dc4c069b7b56",
   "metadata": {},
   "outputs": [
    {
     "name": "stdout",
     "output_type": "stream",
     "text": [
      "Dropped these variables from the Dataset: PROCESSING.\n",
      "Saved the (simplified) Dataset to: ../../data/intermediate/mat/fs2015_ctds_unprocessed.mat\n"
     ]
    }
   ],
   "source": [
    "mat_dir = '../../data/intermediate/mat/'\n",
    "ctd.to_mat(ds, mat_dir + f'{cruise_ctd_id}_unprocessed', simplify = True)"
   ]
  },
  {
   "cell_type": "code",
   "execution_count": null,
   "id": "2b2d90ec-de00-44d9-9111-e2ec8d97e2c2",
   "metadata": {},
   "outputs": [],
   "source": []
  }
 ],
 "metadata": {
  "kernelspec": {
   "display_name": "Python [conda env:oyv2] *",
   "language": "python",
   "name": "conda-env-oyv2-py"
  },
  "language_info": {
   "codemirror_mode": {
    "name": "ipython",
    "version": 3
   },
   "file_extension": ".py",
   "mimetype": "text/x-python",
   "name": "python",
   "nbconvert_exporter": "python",
   "pygments_lexer": "ipython3",
   "version": "3.12.3"
  }
 },
 "nbformat": 4,
 "nbformat_minor": 5
}
