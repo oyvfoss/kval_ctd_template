{
 "cells": [
  {
   "cell_type": "markdown",
   "id": "b161c731-a385-4b19-8e19-34bc41fd7600",
   "metadata": {},
   "source": [
    "# Compare salinometer and CTD salinity\n",
    "\n",
    "Parse .btl file data together with salinometer readings and have a look at the differences.\n",
    "\n",
    "The basic idea:\n",
    "- Compare SBE911+ reading salinity (`.btl` files) with salinometer readings from bottle samples.\n",
    "   - (Exclude data collected near the surface where the background variance is large..) \n",
    "- If the overall differences are small, we can consider the CTD salinity profiles \"validated\".\n",
    "- If the differences are significant, we may have to make ad-hoc adjustments to CTD salinit\n",
    "    - E.g. apply an offset or multiplier, or some sort of correction for modeled sensor drift.\n",
    "    - Corrections are not covered explicitly by `kval` functions \n",
    "___\n",
    "\n",
    "Notes about the code:\n",
    "\n",
    "- Using functionality from `kval.data.ship_ctd_tools.qc_salt` \n",
    "- The parser functions in `qc_salt` are tailored to the format developed by Paul Dodd. Not sure how robust they are.\n",
    "- Ultimately, we will have to think about whether we actually want to include this sort of ad-hoc stuff in `kval`.\n",
    "\n",
    "___"
   ]
  },
  {
   "cell_type": "markdown",
   "id": "b0a727a4-f2e3-4097-846b-a63383ab84ee",
   "metadata": {},
   "source": [
    "##### Imports"
   ]
  },
  {
   "cell_type": "code",
   "execution_count": null,
   "id": "bc7fb995-622d-4202-b19d-db6661518170",
   "metadata": {},
   "outputs": [],
   "source": [
    "from kval.data.ship_ctd_tools import qc_salt\n",
    "%matplotlib widget\n",
    "# Note: Ignore the deprecation warning"
   ]
  },
  {
   "cell_type": "markdown",
   "id": "84fbbd5a-24d6-40db-b4b3-73ac487aeddc",
   "metadata": {},
   "source": [
    "### Load and combine data\n",
    "\n",
    "Reading data from: \n",
    "- `.btl` files\n",
    "- Salinometer data sheet\n",
    "- CTD log sheet (used to co-locate samples and btl file values) "
   ]
  },
  {
   "cell_type": "markdown",
   "id": "b0b90c09-b6e0-4278-a3a2-ce10b39bd1ba",
   "metadata": {},
   "source": [
    "##### Define locations of the inputs"
   ]
  },
  {
   "cell_type": "code",
   "execution_count": null,
   "id": "2899a5d9-6539-4df9-a545-39fcf73bf1ee",
   "metadata": {},
   "outputs": [],
   "source": [
    "btl_dir = '../../data/source/btl/' # Wherever we have out .btl files \n",
    "salts_sheet = '../../data/source/salinometer/salts_20XX.xls' # Wherever we have out salts excel sheet \n",
    "log_sheet = '../../data/source/salinometer/ctd_20XX.xls' # Wherever we have out ctd log sheet"
   ]
  },
  {
   "cell_type": "markdown",
   "id": "474d713f-3594-4e37-a1f2-e4a6c7cbf0b9",
   "metadata": {},
   "source": [
    "##### Load them into a common object"
   ]
  },
  {
   "cell_type": "code",
   "execution_count": null,
   "id": "57acc52c-04f8-42b2-a81d-1ccfc12a5c2b",
   "metadata": {},
   "outputs": [],
   "source": [
    "ds_sal = qc_salt.setup_sal_qc(salts_sheet, log_sheet, btl_dir=btl_dir)"
   ]
  },
  {
   "cell_type": "markdown",
   "id": "e1981c13-ae74-438f-a9fb-309418f5d420",
   "metadata": {},
   "source": [
    "## Plot of salinity differences\n",
    "\n",
    "Helper function generating a plot comparing btl file and salinometer salinity. \n",
    "\n",
    "The `min_pres` parameter means that we ignore samples collected shallower than this depth.  \n",
    "\n",
    "On the bottom left is a histogram of the diffrerences between the two; this should be clustered pretty near zero. If they are not, we probably need to consider applying an offset to te CTD salinity.."
   ]
  },
  {
   "cell_type": "code",
   "execution_count": null,
   "id": "7a7aa987-5419-4614-a906-c09008acd4fb",
   "metadata": {},
   "outputs": [],
   "source": [
    "# Look at primary salinity (PSAL1)\n",
    "\n",
    "qc_salt.plot_by_sample(ds_sal, min_pres=500)\n"
   ]
  },
  {
   "cell_type": "code",
   "execution_count": null,
   "id": "6b0a2a48-0780-444a-8f78-53c4b6d66244",
   "metadata": {},
   "outputs": [],
   "source": [
    "# Look at secondary salinity (PSAL2)\n",
    "qc_salt.plot_by_sample(ds_sal, psal_var='PSAL2', min_pres = 500)"
   ]
  }
 ],
 "metadata": {
  "kernelspec": {
   "display_name": "Python [conda env:oyv2] *",
   "language": "python",
   "name": "conda-env-oyv2-py"
  },
  "language_info": {
   "codemirror_mode": {
    "name": "ipython",
    "version": 3
   },
   "file_extension": ".py",
   "mimetype": "text/x-python",
   "name": "python",
   "nbconvert_exporter": "python",
   "pygments_lexer": "ipython3",
   "version": "3.12.3"
  }
 },
 "nbformat": 4,
 "nbformat_minor": 5
}
