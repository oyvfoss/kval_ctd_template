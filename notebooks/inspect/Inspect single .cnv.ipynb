{
 "cells": [
  {
   "cell_type": "markdown",
   "id": "70e67729-8886-4495-8bc0-3644b18e420b",
   "metadata": {},
   "source": [
    "# Inspect single .cnv files pre-binning\n",
    "Quick look at a `.cnv` file before bining in order to diagnose problems.\n",
    "\n",
    "A typical issue is that data from the pre-profile soak ends up in the binned profile. This script can be used to quickly diagnose similar issues.\n",
    "\n",
    "> *Note*: (Not actually *doing* anything here, just inspecting). "
   ]
  },
  {
   "cell_type": "code",
   "execution_count": 2,
   "id": "779ed905-e9c3-40e7-a4ca-f11145c47390",
   "metadata": {},
   "outputs": [
    {
     "ename": "SyntaxError",
     "evalue": "unterminated string literal (detected at line 895) (_ctd_edit.py, line 895)",
     "output_type": "error",
     "traceback": [
      "Traceback \u001b[0;36m(most recent call last)\u001b[0m:\n",
      "\u001b[0m  File \u001b[1;32m~/mambaforge/envs/fs24/lib/python3.11/site-packages/IPython/core/interactiveshell.py:3577\u001b[0m in \u001b[1;35mrun_code\u001b[0m\n    exec(code_obj, self.user_global_ns, self.user_ns)\u001b[0m\n",
      "\u001b[0m  Cell \u001b[1;32mIn[2], line 3\u001b[0m\n    from kval.data import ctd\u001b[0m\n",
      "\u001b[0;36m  File \u001b[0;32m~/mambaforge/envs/fs24/lib/python3.11/site-packages/kval/data/ctd.py:39\u001b[0;36m\n\u001b[0;31m    from kval.data.ship_ctd_tools import _ctd_edit as ctd_edit\u001b[0;36m\n",
      "\u001b[0;36m  File \u001b[0;32m~/mambaforge/envs/fs24/lib/python3.11/site-packages/kval/data/ship_ctd_tools/_ctd_edit.py:895\u001b[0;36m\u001b[0m\n\u001b[0;31m    f'\\n\\n# {proc_string.replace(f' {unit}', '')\u001b[0m\n\u001b[0m                                              ^\u001b[0m\n\u001b[0;31mSyntaxError\u001b[0m\u001b[0;31m:\u001b[0m unterminated string literal (detected at line 895)\n"
     ]
    }
   ],
   "source": [
    "import matplotlib.pyplot as plt\n",
    "# Load modules from the kval library  \n",
    "from kval.data import ctd\n",
    "from kval.file import sbe\n",
    "# Set the matplotlib backend so we can interact with the plots (zoom, click buttons etc)\n",
    "%matplotlib widget"
   ]
  },
  {
   "cell_type": "markdown",
   "id": "acbb0726-b8f8-48fc-9a81-4e14ead7384e",
   "metadata": {},
   "source": [
    "### Specify the file we want to look at"
   ]
  },
  {
   "cell_type": "code",
   "execution_count": null,
   "id": "fe518691-40ea-4454-aede-f01f0a0c4679",
   "metadata": {},
   "outputs": [],
   "source": [
    "path_to_file = '../../data/source/cnv_pre_bin/019.cnv' # Replace with the file you want to look at"
   ]
  },
  {
   "cell_type": "markdown",
   "id": "e5e078f8-3221-4522-bf46-f01fe46e5d81",
   "metadata": {},
   "source": [
    "### Load the file and look at how the profile is picked out\n",
    "\n",
    "SBE loop editing (or whatever) applies flags for \"good data\" that is included in binning.\n",
    "\n",
    "Here: Load the data and set `inspect_plot=True` to produce a plot of pressure vs scan count, showing which points are flagged as good (`flag=0` in the `.cnv` file + identified as downcast by `kval`)."
   ]
  },
  {
   "cell_type": "code",
   "execution_count": null,
   "id": "45601aed-a2aa-466c-aea2-05efbb066df7",
   "metadata": {},
   "outputs": [],
   "source": [
    "d = sbe.read_cnv(path_to_file, inspect_plot=True) # Note: By default, this function automatically removes the upcast (data after max pressure) \n",
    "cnv_file_name = d.source_files[d.source_files.rfind(' -> ')+4:]\n",
    "plt.gca().set_title(cnv_file_name)"
   ]
  },
  {
   "cell_type": "markdown",
   "id": "a6f881f3-ca27-4dad-bbfe-f537d9213497",
   "metadata": {},
   "source": [
    "## Look at the SBE processing steps\n",
    "Print a human-redable list of steps applied in processing.\n",
    "\n",
    "> *Note*: This is basically a parsed version of the processing string in the .cnv header. Errors/inaccuracies can occur.."
   ]
  },
  {
   "cell_type": "code",
   "execution_count": null,
   "id": "b70b1a14-f45e-4db6-8b98-c7975fde13b4",
   "metadata": {},
   "outputs": [],
   "source": [
    "print(d.SBE_processing)"
   ]
  },
  {
   "cell_type": "markdown",
   "id": "746b5e7a-bf22-48a0-a0fa-afc9579c9370",
   "metadata": {},
   "source": [
    "## Quick diagnostics plots"
   ]
  },
  {
   "cell_type": "markdown",
   "id": "d5f46e12-f1e7-43df-ba4a-767e2c1079a6",
   "metadata": {},
   "source": [
    "### Profile plot"
   ]
  },
  {
   "cell_type": "code",
   "execution_count": null,
   "id": "79320090-0690-473e-947b-7335f1172e8b",
   "metadata": {},
   "outputs": [],
   "source": [
    "variable = 'PSAL1'\n",
    "fig, ax = plt.subplots()\n",
    "ax.plot(d[variable], d.PRES)\n",
    "ax.invert_yaxis()\n",
    "ax.set_ylabel('PRES [db]')\n",
    "ax.set_xlabel(f'{variable} [units: {d[variable].units}]')\n",
    "ax.grid()\n",
    "ax.set_title(cnv_file_name)\n",
    "plt.tight_layout()"
   ]
  },
  {
   "cell_type": "markdown",
   "id": "c0f87fd1-9e9b-4cc3-89fb-19c6a3c24ba0",
   "metadata": {},
   "source": [
    "### Time plot\n",
    "\n",
    "Quick plot in time."
   ]
  },
  {
   "cell_type": "code",
   "execution_count": null,
   "id": "b059734d-cc35-46a4-8c45-cb8864d78a7e",
   "metadata": {},
   "outputs": [],
   "source": [
    "# Load the data without applying any flags or extracting downcast\n",
    "d_noflag = sbe.read_cnv(path_to_file, apply_flags=False, profile='none')"
   ]
  },
  {
   "cell_type": "code",
   "execution_count": null,
   "id": "5e50f584-9e12-4255-ae47-412a60874225",
   "metadata": {},
   "outputs": [],
   "source": [
    "variable = 'TEMP1'\n",
    "\n",
    "minutes_elapsed = (d_noflag.TIME_SAMPLE-d_noflag.TIME_SAMPLE[0])*1440\n",
    "fig, ax = plt.subplots(figsize = (14, 4))\n",
    "ax.plot(minutes_elapsed, d_noflag[variable], )\n",
    "ax.invert_yaxis()\n",
    "ax.set_xlabel('Time elapsed (minutes)')\n",
    "ax.set_ylabel(f'{variable} [units: {d[variable].units}]')\n",
    "ax.grid()\n",
    "ax.set_title(cnv_file_name)\n",
    "plt.tight_layout()"
   ]
  },
  {
   "cell_type": "code",
   "execution_count": null,
   "id": "10215fd8-0aca-4e6e-9598-b8c87a0c92d5",
   "metadata": {},
   "outputs": [],
   "source": [
    "plt.close('all')"
   ]
  },
  {
   "cell_type": "code",
   "execution_count": null,
   "id": "0094f2a6-b12e-4959-8df4-4cda8087c49b",
   "metadata": {},
   "outputs": [],
   "source": []
  }
 ],
 "metadata": {
  "kernelspec": {
   "display_name": "Python [conda env:fs24] *",
   "language": "python",
   "name": "conda-env-fs24-py"
  },
  "language_info": {
   "codemirror_mode": {
    "name": "ipython",
    "version": 3
   },
   "file_extension": ".py",
   "mimetype": "text/x-python",
   "name": "python",
   "nbconvert_exporter": "python",
   "pygments_lexer": "ipython3",
   "version": "3.11.9"
  }
 },
 "nbformat": 4,
 "nbformat_minor": 5
}
